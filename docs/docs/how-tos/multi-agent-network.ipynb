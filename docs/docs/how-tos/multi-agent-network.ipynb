{
 "cells": [
  {
   "cell_type": "markdown",
   "id": "87684b48-150e-4e15-b0a5-a9dd7851f8fb",
   "metadata": {},
   "source": [
    "# How to build a multi-agent network"
   ]
  },
  {
   "attachments": {},
   "cell_type": "markdown",
   "id": "2c65639c-9705-49f1-840a-370718852e98",
   "metadata": {},
   "source": [
    "!!! info \"Prerequisites\"\n",
    "    This guide assumes familiarity with the following:\n",
    "\n",
    "    - [Node](../../concepts/low_level/#nodes)\n",
    "    - [Command](../../concepts/low_level/#command)\n",
    "    - [Multi-agent systems](../../concepts/multi_agent)\n",
    "\n",
    "\n",
    "In this how-to guide we will demonstrate how to implement a [multi-agent network](../../concepts/multi_agent#network) architecture.\n",
    "\n",
    "Each agent can be represented as a node in the graph that executes agent step(s) and decides what to do next - finish execution or route to another agent (including routing to itself, e.g. running in a loop). A common pattern for routing in multi-agent architectures is handoffs. Handoffs allow you to specify:\n",
    "\n",
    "1. which agent to navigate to next and (e.g. name of the node to go to)\n",
    "2. what information to pass to that agent (e.g. state update)\n",
    "\n",
    "To implement handoffs, agent nodes can return `Command` object that allows you to [combine both control flow and state updates](../command):\n",
    "\n",
    "```python\n",
    "def agent(state) -> Command[Literal[\"agent\", \"another_agent\"]]:\n",
    "    # the condition for routing/halting can be anything, e.g. LLM tool call / structured output, etc.\n",
    "    goto = get_next_agent(...)  # 'agent' / 'another_agent'\n",
    "    if goto:\n",
    "        return Command(goto=goto, update={\"my_state_key\": \"my_state_value\"})\n",
    "    \n",
    "```"
   ]
  },
  {
   "cell_type": "markdown",
   "id": "faaa4444-cd06-4813-b9ca-c9700fe12cb7",
   "metadata": {},
   "source": [
    "## Setup\n",
    "\n",
    "First, let's install the required packages"
   ]
  },
  {
   "cell_type": "code",
   "execution_count": 1,
   "id": "05038da0-31df-4066-a1a4-c4ccb5db4d3a",
   "metadata": {},
   "outputs": [],
   "source": [
    "%%capture --no-stderr\n",
    "%pip install -U langgraph langchain-openai"
   ]
  },
  {
   "cell_type": "code",
   "execution_count": 2,
   "id": "0bcff5d4-130e-426d-9285-40d0f72c7cd3",
   "metadata": {},
   "outputs": [
    {
     "name": "stdin",
     "output_type": "stream",
     "text": [
      "OPENAI_API_KEY:  ········\n"
     ]
    }
   ],
   "source": [
    "import getpass\n",
    "import os\n",
    "\n",
    "\n",
    "def _set_env(var: str):\n",
    "    if not os.environ.get(var):\n",
    "        os.environ[var] = getpass.getpass(f\"{var}: \")\n",
    "\n",
    "\n",
    "_set_env(\"OPENAI_API_KEY\")"
   ]
  },
  {
   "cell_type": "markdown",
   "id": "c3ec6e48-85dc-4905-ba50-985e5d4788e6",
   "metadata": {},
   "source": [
    "<div class=\"admonition tip\">\n",
    "    <p class=\"admonition-title\">Set up <a href=\"https://smith.langchain.com\">LangSmith</a> for LangGraph development</p>\n",
    "    <p style=\"padding-top: 5px;\">\n",
    "        Sign up for LangSmith to quickly spot issues and improve the performance of your LangGraph projects. LangSmith lets you use trace data to debug, test, and monitor your LLM apps built with LangGraph — read more about how to get started <a href=\"https://docs.smith.langchain.com\">here</a>. \n",
    "    </p>\n",
    "</div>"
   ]
  },
  {
   "cell_type": "markdown",
   "id": "4a53f304-3709-4df7-8714-1ca61e615743",
   "metadata": {},
   "source": [
    "## Travel Recommendations Example"
   ]
  },
  {
   "cell_type": "markdown",
   "id": "34cd131b-f0c2-4b69-887f-2cbd5afb14a7",
   "metadata": {},
   "source": [
    "In this example we will build a team of travel assistant agents that can communicate with each other via handoffs.\n",
    "\n",
    "We will create 3 agents:\n",
    "\n",
    "* `travel_advisor`: can help with general travel destination recommendations. Can ask `sightseeing_advisor` and `hotel_advisor` for help.\n",
    "* `sightseeing_advisor`: can help with sightseeing recommendations. Can ask `travel_advisor` and `hotel_advisor` for help.\n",
    "* `hotel_advisor`: can help with hotel recommendations. Can ask `sightseeing_advisor` and `hotel_advisor` for help.\n",
    "\n",
    "This is a fully-connected network - every agent can talk to any other agent. \n",
    "\n",
    "To implement the handoffs between the agents we'll be using LLMs with structured output. Each agent's LLM will return an output with both its text response (`response`) as well as which agent to route to next (`goto`). If the agent has enough information to respond to the user, `goto` will contain `finish`.\n",
    "\n",
    "Now, let's define our agent nodes and graph!"
   ]
  },
  {
   "cell_type": "code",
   "execution_count": 3,
   "id": "29e2a824-dbeb-4944-9df2-63fdbd883252",
   "metadata": {},
   "outputs": [],
   "source": [
    "from typing_extensions import TypedDict, Literal\n",
    "\n",
    "from langchain_openai import ChatOpenAI\n",
    "from langchain_core.messages import AnyMessage\n",
    "from langgraph.graph import MessagesState, StateGraph, START, END\n",
    "from langgraph.types import Command\n",
    "\n",
    "model = ChatOpenAI(model=\"gpt-4o\")\n",
    "\n",
    "\n",
    "# Define a helper for each of the agent nodes to call\n",
    "def call_llm(messages: list[AnyMessage], target_agent_nodes: list[str]):\n",
    "    \"\"\"Call LLM with structured output to get a natural language response as well as a target agent (node) to go to next.\n",
    "\n",
    "    Args:\n",
    "        messages: list of messages to pass to the LLM\n",
    "        target_agents: list of the node names of the target agents to navigate to\n",
    "    \"\"\"\n",
    "    # define JSON schema for the structured output:\n",
    "    # - model's text response (`response`)\n",
    "    # - name of the node to go to next (or 'finish')\n",
    "    # see more on structured output here https://python.langchain.com/docs/concepts/structured_outputs\n",
    "    json_schema = {\n",
    "        \"name\": \"Response\",\n",
    "        \"parameters\": {\n",
    "            \"type\": \"object\",\n",
    "            \"properties\": {\n",
    "                \"response\": {\n",
    "                    \"type\": \"string\",\n",
    "                    \"description\": \"A human readable response to the original question. Does not need to be a final response. Will be streamed back to the user.\",\n",
    "                },\n",
    "                \"goto\": {\n",
    "                    \"enum\": [*target_agent_nodes, \"__end__\"],\n",
    "                    \"type\": \"string\",\n",
    "                    \"description\": \"The next agent to call, or __end__ if the user's query has been resolved. Must be one of the specified values.\",\n",
    "                },\n",
    "            },\n",
    "            \"required\": [\"response\", \"goto\"],\n",
    "        },\n",
    "    }\n",
    "    response = model.with_structured_output(json_schema).invoke(messages)\n",
    "    return response\n",
    "\n",
    "\n",
    "def travel_advisor(\n",
    "    state: MessagesState,\n",
    ") -> Command[Literal[\"sightseeing_advisor\", \"hotel_advisor\", \"__end__\"]]:\n",
    "    system_prompt = (\n",
    "        \"You are a general travel expert that can recommend travel destinations (e.g. countries, cities, etc). \"\n",
    "        \"If you need specific sightseeing recommendations, ask 'sightseeing_advisor' for help. \"\n",
    "        \"If you need hotel recommendations, ask 'hotel_advisor' for help. \"\n",
    "        \"If you have enough information to respond to the user, return 'finish'. \"\n",
    "        \"Never mention other agents by name.\"\n",
    "    )\n",
    "    messages = [{\"role\": \"system\", \"content\": system_prompt}] + state[\"messages\"]\n",
    "    target_agent_nodes = [\"sightseeing_advisor\", \"hotel_advisor\"]\n",
    "    response = call_llm(messages, target_agent_nodes)\n",
    "    ai_msg = {\"role\": \"ai\", \"content\": response[\"response\"], \"name\": \"travel_advisor\"}\n",
    "    # handoff to another agent or halt\n",
    "    return Command(goto=response[\"goto\"], update={\"messages\": ai_msg})\n",
    "\n",
    "\n",
    "def sightseeing_advisor(\n",
    "    state: MessagesState,\n",
    ") -> Command[Literal[\"travel_advisor\", \"hotel_advisor\", \"__end__\"]]:\n",
    "    system_prompt = (\n",
    "        \"You are a travel expert that can provide specific sightseeing recommendations for a given destination. \"\n",
    "        \"If you need general travel help, go to 'travel_advisor' for help. \"\n",
    "        \"If you need hotel recommendations, go to 'hotel_advisor' for help. \"\n",
    "        \"If you have enough information to respond to the user, return 'finish'. \"\n",
    "        \"Never mention other agents by name.\"\n",
    "    )\n",
    "    messages = [{\"role\": \"system\", \"content\": system_prompt}] + state[\"messages\"]\n",
    "    target_agent_nodes = [\"travel_advisor\", \"hotel_advisor\"]\n",
    "    response = call_llm(messages, target_agent_nodes)\n",
    "    ai_msg = {\n",
    "        \"role\": \"ai\",\n",
    "        \"content\": response[\"response\"],\n",
    "        \"name\": \"sightseeing_advisor\",\n",
    "    }\n",
    "    # handoff to another agent or halt\n",
    "    return Command(goto=response[\"goto\"], update={\"messages\": ai_msg})\n",
    "\n",
    "\n",
    "def hotel_advisor(\n",
    "    state: MessagesState,\n",
    ") -> Command[Literal[\"travel_advisor\", \"sightseeing_advisor\", \"__end__\"]]:\n",
    "    system_prompt = (\n",
    "        \"You are a travel expert that can provide hotel recommendations for a given destination. \"\n",
    "        \"If you need general travel help, ask 'travel_advisor' for help. \"\n",
    "        \"If you need specific sightseeing recommendations, ask 'sightseeing_advisor' for help. \"\n",
    "        \"If you have enough information to respond to the user, return 'finish'. \"\n",
    "        \"Never mention other agents by name.\"\n",
    "    )\n",
    "    messages = [{\"role\": \"system\", \"content\": system_prompt}] + state[\"messages\"]\n",
    "    target_agent_nodes = [\"travel_advisor\", \"sightseeing_advisor\"]\n",
    "    response = call_llm(messages, target_agent_nodes)\n",
    "    ai_msg = {\"role\": \"ai\", \"content\": response[\"response\"], \"name\": \"hotel_advisor\"}\n",
    "    # handoff to another agent or halt\n",
    "    return Command(goto=response[\"goto\"], update={\"messages\": ai_msg})\n",
    "\n",
    "\n",
    "builder = StateGraph(MessagesState)\n",
    "builder.add_node(\"travel_advisor\", travel_advisor)\n",
    "builder.add_node(\"sightseeing_advisor\", sightseeing_advisor)\n",
    "builder.add_node(\"hotel_advisor\", hotel_advisor)\n",
    "# we'll always start with a general travel advisor\n",
    "builder.add_edge(START, \"travel_advisor\")\n",
    "\n",
    "graph = builder.compile()"
   ]
  },
  {
   "cell_type": "code",
   "execution_count": 4,
   "id": "d77921f6-599d-443f-8b15-56b1adafd3a8",
   "metadata": {},
   "outputs": [
    {
     "data": {
      "image/png": "[encoded data removed]",
      "text/plain": [
       "<IPython.core.display.Image object>"
      ]
     },
     "metadata": {},
     "output_type": "display_data"
    }
   ],
   "source": [
    "from IPython.display import display, Image\n",
    "\n",
    "display(Image(graph.get_graph().draw_mermaid_png()))"
   ]
  },
  {
   "cell_type": "markdown",
   "id": "af856e1b-41fc-4041-8cbf-3818a60088e0",
   "metadata": {},
   "source": [
    "First, let's invoke it with a generic input:"
   ]
  },
  {
   "cell_type": "code",
   "execution_count": 5,
   "id": "26a0d4df-ff99-40f0-92a8-0b3f2c591040",
   "metadata": {},
   "outputs": [
    {
     "name": "stdout",
     "output_type": "stream",
     "text": [
      "{'travel_advisor': {'messages': {'role': 'ai', 'content': 'The Caribbean offers many warm and beautiful destinations. Some popular ones include:\\n\\n1. **Jamaica** - Known for its beautiful beaches, reggae music, and vibrant culture.\\n2. **Bahamas** - Offers stunning beaches and clear turquoise waters, perfect for relaxation and water activities.\\n3. **Barbados** - Known for its friendly locals, delicious cuisine, and beautiful beaches.\\n4. **Dominican Republic** - Offers a mix of beaches, mountains, and historical sites.\\n5. **Aruba** - Known for its dry climate, beautiful beaches, and outdoor activities.\\n\\nWould you like recommendations for sightseeing or hotels in any of these destinations?', 'name': 'travel_advisor'}}}\n",
      "\n",
      "\n"
     ]
    }
   ],
   "source": [
    "for chunk in graph.stream(\n",
    "    {\"messages\": [(\"user\", \"i wanna go somewhere warm in the caribbean\")]}\n",
    "):\n",
    "    print(chunk)\n",
    "    print(\"\\n\")"
   ]
  },
  {
   "cell_type": "markdown",
   "id": "997ea9aa-36ee-40a1-a5fc-b44a079786a9",
   "metadata": {},
   "source": [
    "You can see that in this case only the first agent (`travel_advisor`) ran. Let's now ask for more recommendations:"
   ]
  },
  {
   "cell_type": "code",
   "execution_count": 6,
   "id": "68a547d4-0a15-43bd-aeed-c9ba1dfe388f",
   "metadata": {},
   "outputs": [
    {
     "name": "stdout",
     "output_type": "stream",
     "text": [
      "{'travel_advisor': {'messages': {'role': 'ai', 'content': 'I recommend visiting Jamaica, a vibrant and warm destination in the Caribbean known for its beautiful beaches, rich culture, and exciting activities.', 'name': 'travel_advisor'}}}\n",
      "\n",
      "\n",
      "{'sightseeing_advisor': {'messages': {'role': 'ai', 'content': \"For a warm and vibrant Caribbean destination, I recommend Jamaica. It's renowned for its stunning beaches, lively culture, and exciting activities.\\n\\n### Things to Do in Jamaica:\\n1. **Explore Dunn’s River Falls**: A famous waterfall near Ocho Rios where you can climb the terraced steps and enjoy the natural pools.\\n2. **Visit Bob Marley Museum**: Located in Kingston, this museum offers a deep dive into the life of the reggae legend.\\n3. **Relax at Seven Mile Beach**: Known for its beautiful white sand and clear blue waters, it’s perfect for sunbathing and swimming.\\n4. **Experience Negril Cliffs**: Enjoy breathtaking views and adventurous cliff diving.\\n5. **Discover Blue Hole**: A hidden gem near Ocho Rios, offering a refreshing swim in stunning turquoise waters.\\n\\nI will now find some hotel recommendations for you in Jamaica.\", 'name': 'sightseeing_advisor'}}}\n",
      "\n",
      "\n",
      "{'hotel_advisor': {'messages': {'role': 'ai', 'content': 'For your stay in Jamaica, here are some hotel recommendations:\\n\\n1. **Sandals Montego Bay**: An all-inclusive resort offering luxury accommodations, private beaches, and various dining options.\\n\\n2. **Jamaica Inn**: Located in Ocho Rios, this boutique hotel offers a more intimate experience with stunning beach views and personalized service.\\n\\n3. **Half Moon Resort**: Situated in Montego Bay, this resort features a private beach, golf course, and a world-class spa.\\n\\n4. **The Caves Hotel**: In Negril, offering unique cliffside cottages and a romantic atmosphere.\\n\\n5. **Round Hill Hotel and Villas**: A classic resort near Montego Bay with luxurious villas and an elegant ambiance.\\n\\nEnjoy your trip to Jamaica, where warm weather and vibrant culture await!', 'name': 'hotel_advisor'}}}\n",
      "\n",
      "\n"
     ]
    }
   ],
   "source": [
    "for chunk in graph.stream(\n",
    "    {\n",
    "        \"messages\": [\n",
    "            (\n",
    "                \"user\",\n",
    "                \"i wanna go somewhere warm in the caribbean. pick one destination, give me some things to do and hotel recommendations\",\n",
    "            )\n",
    "        ]\n",
    "    }\n",
    "):\n",
    "    print(chunk)\n",
    "    print(\"\\n\")"
   ]
  },
  {
   "cell_type": "markdown",
   "id": "c1c66f91-39b0-4ed2-91e8-6daf6d124f47",
   "metadata": {},
   "source": [
    "Voila - `travel_advisor` makes a decision to first get some sightseeing recommendations from `sightseeing_advisor`, and then `sightseeing_advisor` in turn calls `hotel_advisor` for more info. Notice that we never explicitly defined the order in which the agents should be executed!"
   ]
  },
  {
   "cell_type": "markdown",
   "id": "3f9930b9-16b4-4179-9990-7ddf48cb3ed7",
   "metadata": {},
   "source": [
    "## Game NPCs Example"
   ]
  },
  {
   "attachments": {},
   "cell_type": "markdown",
   "id": "3f7b49c5-070e-4289-88aa-afbfae44cc98",
   "metadata": {},
   "source": [
    "In this example we will create a team of [non-player characters (NPCs)](https://en.wikipedia.org/wiki/Non-player_character) that all run at the same time and share game state (resources). At each step, each NPC will inspect the state and decide whether to halt or continue acting at the next step. If it continues, it will update the shared game state (produce or consume resources).\n",
    "\n",
    "We will create 4 NPC agents:\n",
    "\n",
    "- `villager`: produces wood and food until there is enough, then halts\n",
    "- `guard`: protects gold and consumes food. When there is not enough food, leaves duty and halts\n",
    "- `merchant`: trades wood for gold. When there is not enough wood, halts\n",
    "- `thief`: checks if the guard is on duty and steals all of the gold when the guard leaves, then halts\n",
    "\n",
    "Our NPC agents will be simple node functions (`villager`, `guard`, etc.). At each step of the graph execution, the agent function will inspect the resource values in the state and decide whether it should halt or continue. If it decides to continue, it will update the resource values in the state and loop back to itself to run at the next step.\n",
    "\n",
    "Now, let's define our agent nodes and graph!"
   ]
  },
  {
   "cell_type": "code",
   "execution_count": 7,
   "id": "f15c38c0-c88a-404b-9687-a9ef9ff20ffc",
   "metadata": {},
   "outputs": [],
   "source": [
    "from typing_extensions import Annotated, TypedDict, Literal\n",
    "\n",
    "from langchain_core.runnables import RunnableConfig\n",
    "from langgraph.graph import StateGraph, START, END\n",
    "from langgraph.types import Command\n",
    "\n",
    "import operator\n",
    "\n",
    "\n",
    "class GameState(TypedDict):\n",
    "    # note that we're defining a reducer (operator.add) here.\n",
    "    # This will allow all agents to write their updates for resources concurrently.\n",
    "    wood: Annotated[int, operator.add]\n",
    "    food: Annotated[int, operator.add]\n",
    "    gold: Annotated[int, operator.add]\n",
    "    guard_on_duty: bool\n",
    "\n",
    "\n",
    "def villager(state: GameState) -> Command[Literal[\"villager\", \"__end__\"]]:\n",
    "    \"\"\"Villager NPC that gathers wood and food.\"\"\"\n",
    "    current_resources = state[\"wood\"] + state[\"food\"]\n",
    "    if current_resources < 15:  # Continue gathering until we have enough resources\n",
    "        print(\"Villager gathering resources.\")\n",
    "        # Loop back to the 'villager' agent\n",
    "        return Command(goto=\"villager\", update={\"wood\": 3, \"food\": 1})\n",
    "    # NOTE: Returning Command(goto=END) is not necessary for the graph to run correctly\n",
    "    # but it's useful for visualization, to show that the agent actually halts\n",
    "    else:\n",
    "        return Command(goto=END)\n",
    "\n",
    "\n",
    "def guard(state: GameState) -> Command[Literal[\"guard\", \"__end__\"]]:\n",
    "    \"\"\"Guard NPC that protects gold and consumes food.\"\"\"\n",
    "    if not state[\"guard_on_duty\"]:\n",
    "        return Command(goto=END)\n",
    "\n",
    "    if state[\"food\"] > 0:  # Guard needs food to keep patrolling\n",
    "        print(\"Guard patrolling.\")\n",
    "        # Loop back to the 'guard' agent\n",
    "        return Command(\n",
    "            goto=\"guard\",\n",
    "            update={\"food\": -1},  # Consume food while patrolling\n",
    "        )\n",
    "    else:\n",
    "        print(\"Guard leaving to get food.\")\n",
    "        return Command(goto=END, update={\"guard_on_duty\": False})  # Leave to get food\n",
    "\n",
    "\n",
    "def merchant(state: GameState) -> Command[Literal[\"merchant\", \"__end__\"]]:\n",
    "    \"\"\"Merchant NPC that trades wood for gold.\"\"\"\n",
    "    if state[\"wood\"] >= 5:  # Trade wood for gold when available\n",
    "        print(\"Merchant trading wood for gold.\")\n",
    "        return Command(goto=\"merchant\", update={\"wood\": -5, \"gold\": 1})\n",
    "    else:\n",
    "        return Command(goto=END)\n",
    "\n",
    "\n",
    "def thief(state: GameState) -> Command[Literal[\"thief\", \"__end__\"]]:\n",
    "    \"\"\"Thief NPC that steals gold if the guard leaves to get food.\"\"\"\n",
    "    if not state[\"guard_on_duty\"]:\n",
    "        print(\"Thief stealing gold.\")\n",
    "        return Command(goto=END, update={\"gold\": -state[\"gold\"]})\n",
    "    else:\n",
    "        # keep thief on standby (loop back to the 'thief' agent)\n",
    "        return Command(goto=\"thief\")\n",
    "\n",
    "\n",
    "builder = StateGraph(GameState)\n",
    "\n",
    "# Add NPC nodes\n",
    "builder.add_node(villager)\n",
    "builder.add_node(guard)\n",
    "builder.add_node(merchant)\n",
    "builder.add_node(thief)\n",
    "\n",
    "# All NPCs start running in parallel\n",
    "builder.add_edge(START, \"villager\")\n",
    "builder.add_edge(START, \"guard\")\n",
    "builder.add_edge(START, \"merchant\")\n",
    "builder.add_edge(START, \"thief\")\n",
    "graph = builder.compile()"
   ]
  },
  {
   "cell_type": "code",
   "execution_count": 8,
   "id": "ab4cc03e-4e25-44ac-88b1-e415fcbce151",
   "metadata": {},
   "outputs": [
    {
     "data": {
      "image/png": "[encoded data removed]",
      "text/plain": [
       "<IPython.core.display.Image object>"
      ]
     },
     "metadata": {},
     "output_type": "display_data"
    }
   ],
   "source": [
    "display(Image(graph.get_graph().draw_mermaid_png()))"
   ]
  },
  {
   "cell_type": "markdown",
   "id": "5a3ea167-c302-41f7-906e-60fd0e5cd004",
   "metadata": {},
   "source": [
    "Let's run it with some initial state!"
   ]
  },
  {
   "cell_type": "code",
   "execution_count": 9,
   "id": "83f50671-9371-46dd-847d-5db824c1141e",
   "metadata": {},
   "outputs": [
    {
     "name": "stdout",
     "output_type": "stream",
     "text": [
      "Game state {'wood': 10, 'food': 3, 'gold': 10, 'guard_on_duty': True}\n",
      "\n",
      "\n",
      "Villager gathering resources.\n",
      "Guard patrolling.\n",
      "Merchant trading wood for gold.\n",
      "Game state {'wood': 8, 'food': 3, 'gold': 11, 'guard_on_duty': True}\n",
      "\n",
      "\n",
      "Villager gathering resources.\n",
      "Guard patrolling.\n",
      "Merchant trading wood for gold.\n",
      "Game state {'wood': 6, 'food': 3, 'gold': 12, 'guard_on_duty': True}\n",
      "\n",
      "\n",
      "Villager gathering resources.\n",
      "Guard patrolling.\n",
      "Merchant trading wood for gold.\n",
      "Game state {'wood': 4, 'food': 3, 'gold': 13, 'guard_on_duty': True}\n",
      "\n",
      "\n",
      "Villager gathering resources.\n",
      "Guard patrolling.\n",
      "Game state {'wood': 7, 'food': 3, 'gold': 13, 'guard_on_duty': True}\n",
      "\n",
      "\n",
      "Villager gathering resources.\n",
      "Guard patrolling.\n",
      "Game state {'wood': 10, 'food': 3, 'gold': 13, 'guard_on_duty': True}\n",
      "\n",
      "\n",
      "Villager gathering resources.\n",
      "Guard patrolling.\n",
      "Game state {'wood': 13, 'food': 3, 'gold': 13, 'guard_on_duty': True}\n",
      "\n",
      "\n",
      "Guard patrolling.\n",
      "Game state {'wood': 13, 'food': 2, 'gold': 13, 'guard_on_duty': True}\n",
      "\n",
      "\n",
      "Guard patrolling.\n",
      "Game state {'wood': 13, 'food': 1, 'gold': 13, 'guard_on_duty': True}\n",
      "\n",
      "\n",
      "Guard patrolling.\n",
      "Game state {'wood': 13, 'food': 0, 'gold': 13, 'guard_on_duty': True}\n",
      "\n",
      "\n",
      "Guard leaving to get food.\n",
      "Game state {'wood': 13, 'food': 0, 'gold': 13, 'guard_on_duty': False}\n",
      "\n",
      "\n",
      "Thief stealing gold.\n",
      "Game state {'wood': 13, 'food': 0, 'gold': 0, 'guard_on_duty': False}\n",
      "\n",
      "\n"
     ]
    }
   ],
   "source": [
    "initial_state = {\"wood\": 10, \"food\": 3, \"gold\": 10, \"guard_on_duty\": True}\n",
    "for state in graph.stream(initial_state, stream_mode=\"values\"):\n",
    "    print(\"Game state\", state)\n",
    "    print(\"\\n\")"
   ]
  }
 ],
 "metadata": {
  "kernelspec": {
   "display_name": "Python 3 (ipykernel)",
   "language": "python",
   "name": "python3"
  },
  "language_info": {
   "codemirror_mode": {
    "name": "ipython",
    "version": 3
   },
   "file_extension": ".py",
   "mimetype": "text/x-python",
   "name": "python",
   "nbconvert_exporter": "python",
   "pygments_lexer": "ipython3",
   "version": "3.12.3"
  }
 },
 "nbformat": 4,
 "nbformat_minor": 5
}
